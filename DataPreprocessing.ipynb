{
 "cells": [
  {
   "cell_type": "code",
   "execution_count": 43,
   "metadata": {},
   "outputs": [],
   "source": [
    "import json\n",
    "import os \n",
    "import matplotlib.pyplot as plt"
   ]
  },
  {
   "cell_type": "markdown",
   "metadata": {},
   "source": [
    "### exploring the data"
   ]
  },
  {
   "cell_type": "code",
   "execution_count": null,
   "metadata": {},
   "outputs": [],
   "source": [
    "try_path = \"./data/train/_annotations.coco.json\""
   ]
  },
  {
   "cell_type": "code",
   "execution_count": 55,
   "metadata": {},
   "outputs": [
    {
     "name": "stdout",
     "output_type": "stream",
     "text": [
      "====================================================================================\n",
      "info\n",
      "licenses\n",
      "categories\n",
      "images\n",
      "annotations\n",
      "====================================================================================\n",
      "\n",
      "\n",
      "====================================================================================\n",
      "{'id': 0, 'name': 'Tumor', 'supercategory': 'none'}\n",
      "{'id': 1, 'name': '0', 'supercategory': 'Tumor'}\n",
      "{'id': 2, 'name': '1', 'supercategory': 'Tumor'}\n",
      "====================================================================================\n",
      "\n",
      "\n",
      "{'id': 0, 'license': 1, 'file_name': '2256_jpg.rf.3afd7903eaf3f3c5aa8da4bbb928bc19.jpg', 'height': 640, 'width': 640, 'date_captured': '2023-08-19T04:37:54+00:00'}\n",
      "{'id': 1, 'license': 1, 'file_name': '2871_jpg.rf.3b6eadfbb369abc2b3bcb52b406b74f2.jpg', 'height': 640, 'width': 640, 'date_captured': '2023-08-19T04:37:54+00:00'}\n",
      "{'id': 2, 'license': 1, 'file_name': '2921_jpg.rf.3b952f91f27a6248091e7601c22323ad.jpg', 'height': 640, 'width': 640, 'date_captured': '2023-08-19T04:37:54+00:00'}\n",
      "{'id': 3, 'license': 1, 'file_name': '2777_jpg.rf.3b60ea7f7e70552e70e41528052018bd.jpg', 'height': 640, 'width': 640, 'date_captured': '2023-08-19T04:37:54+00:00'}\n",
      "{'id': 4, 'license': 1, 'file_name': '2860_jpg.rf.3bb87fa4f938af5abfb1e17676ec1dad.jpg', 'height': 640, 'width': 640, 'date_captured': '2023-08-19T04:37:54+00:00'}\n",
      "====================================================================================\n",
      "\n",
      "\n",
      "====================================================================================\n",
      "{'id': 0, 'image_id': 0, 'category_id': 1, 'bbox': [145, 239, 168.75, 162.5], 'area': 27421.875, 'segmentation': [[313.75, 238.75, 145, 238.75, 145, 401.25, 313.75, 401.25, 313.75, 238.75]], 'iscrowd': 0}\n",
      "{'id': 1, 'image_id': 1, 'category_id': 1, 'bbox': [194, 176, 148.75, 233.75], 'area': 34770.313, 'segmentation': [[342.5, 176.25, 193.75, 176.25, 193.75, 410, 342.5, 410, 342.5, 176.25]], 'iscrowd': 0}\n",
      "{'id': 2, 'image_id': 2, 'category_id': 1, 'bbox': [133, 173, 162.5, 185], 'area': 30062.5, 'segmentation': [[295, 172.5, 132.5, 172.5, 132.5, 357.5, 295, 357.5, 295, 172.5]], 'iscrowd': 0}\n",
      "{'id': 3, 'image_id': 3, 'category_id': 1, 'bbox': [245, 358, 138.75, 166.25], 'area': 23067.188, 'segmentation': [[383.75, 357.5, 245, 357.5, 245, 523.75, 383.75, 523.75, 383.75, 357.5]], 'iscrowd': 0}\n",
      "{'id': 4, 'image_id': 4, 'category_id': 1, 'bbox': [80, 189, 112.5, 132.5], 'area': 14906.25, 'segmentation': [[192.5, 188.75, 80, 188.75, 80, 321.25, 192.5, 321.25, 192.5, 188.75]], 'iscrowd': 0}\n",
      "====================================================================================\n",
      "\n",
      "\n"
     ]
    }
   ],
   "source": [
    "with open(try_path, 'r') as file:\n",
    "    data = json.load(file)\n",
    "\n",
    "print(\"====================================================================================\")\n",
    "for key in data: # print all the data keys = {info, licenses, categories, images, anotations}\n",
    "    print(key)\n",
    "print(\"====================================================================================\\n\\n\")\n",
    "\n",
    "print(\"====================================================================================\")\n",
    "for key in data['categories']: # print all the category in the json data\n",
    "    print(key)\n",
    "print(\"====================================================================================\\n\\n\")\n",
    "\n",
    "for key in data['images'][:5]: # print the images properties such as file_name, height, width\n",
    "    print(key)\n",
    "print(\"====================================================================================\\n\\n\")\n",
    "\n",
    "print(\"====================================================================================\")\n",
    "for key in data['annotations'][:5]: # print the anotations properties such as image_id, category_id, bbox, segmentation\n",
    "    print(key)\n",
    "print(\"====================================================================================\\n\\n\")"
   ]
  },
  {
   "cell_type": "markdown",
   "metadata": {},
   "source": [
    "### check for 0 category"
   ]
  },
  {
   "cell_type": "code",
   "execution_count": null,
   "metadata": {},
   "outputs": [],
   "source": [
    "for image, anot in zip(data['images'], data['annotations']):\n",
    "    print(image['file_name'], anot['category_id'])"
   ]
  },
  {
   "cell_type": "code",
   "execution_count": 66,
   "metadata": {},
   "outputs": [
    {
     "data": {
      "text/plain": [
       "(-1.0, 3.0)"
      ]
     },
     "execution_count": 66,
     "metadata": {},
     "output_type": "execute_result"
    },
    {
     "data": {
      "image/png": "[encoded data removed]",
      "text/plain": [
       "<Figure size 640x480 with 1 Axes>"
      ]
     },
     "metadata": {},
     "output_type": "display_data"
    }
   ],
   "source": [
    "lst = [i['category_id'] for i in data['annotations']]\n",
    "\n",
    "plt.ylim([-1, 3])\n",
    "plt.scatter(range(len(lst)), lst)\n",
    "plt.show()                          # there is no 0 category"
   ]
  },
  {
   "cell_type": "code",
   "execution_count": null,
   "metadata": {},
   "outputs": [],
   "source": [
    "len(lst), len(data['annotations'])\n",
    "# since the amount of data is the same as list we are created this is sure that category 0 is none"
   ]
  }
 ],
 "metadata": {
  "kernelspec": {
   "display_name": "Python 3",
   "language": "python",
   "name": "python3"
  },
  "language_info": {
   "codemirror_mode": {
    "name": "ipython",
    "version": 3
   },
   "file_extension": ".py",
   "mimetype": "text/x-python",
   "name": "python",
   "nbconvert_exporter": "python",
   "pygments_lexer": "ipython3",
   "version": "3.11.4"
  }
 },
 "nbformat": 4,
 "nbformat_minor": 2
}
